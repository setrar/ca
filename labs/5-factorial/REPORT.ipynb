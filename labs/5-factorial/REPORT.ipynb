{
 "cells": [
  {
   "cell_type": "markdown",
   "id": "fc0c5361-0473-4770-92a1-9b1b553efc4f",
   "metadata": {},
   "source": [
    "# REPORT"
   ]
  },
  {
   "cell_type": "markdown",
   "id": "90f4919a-6f38-4a42-90be-c4ebc7418ba5",
   "metadata": {},
   "source": [
    "The purpose of this directory is to try running recursive assembly calls. Two source files are provided. One without any printout and the second with decimal printout (as opposed to ASCII printouts)\n",
    "- `facts.s` : No printout, just recursive calls\n",
    "- `fact_print_decimal.s` : recursive calls with printouts\n",
    "\n",
    "The below code is the Julia equivalent which was generateb by chatGPT"
   ]
  },
  {
   "cell_type": "code",
   "execution_count": 1,
   "id": "b83b4cfa-3aeb-44bd-b89d-ea52e6a76c0d",
   "metadata": {},
   "outputs": [
    {
     "data": {
      "text/plain": [
       "factorial (generic function with 1 method)"
      ]
     },
     "execution_count": 1,
     "metadata": {},
     "output_type": "execute_result"
    }
   ],
   "source": [
    "function factorial(n)\n",
    "    if n < 3\n",
    "        return n\n",
    "    else\n",
    "        return n * factorial(n - 1)\n",
    "    end\n",
    "end"
   ]
  },
  {
   "cell_type": "code",
   "execution_count": 8,
   "id": "8d0abaf7-8b68-4d82-b0ef-33ef552ba1b0",
   "metadata": {},
   "outputs": [
    {
     "name": "stdout",
     "output_type": "stream",
     "text": [
      "720\n"
     ]
    }
   ],
   "source": [
    "# Example usage:\n",
    "result = factorial(6)  # Calculate the factorial of 5\n",
    "println(result)       # Print the result"
   ]
  },
  {
   "cell_type": "code",
   "execution_count": null,
   "id": "7de20b9c-710c-4c8f-be5c-93e971e36f2a",
   "metadata": {},
   "outputs": [],
   "source": []
  }
 ],
 "metadata": {
  "kernelspec": {
   "display_name": "Julia 1.9.3",
   "language": "julia",
   "name": "julia-1.9"
  },
  "language_info": {
   "file_extension": ".jl",
   "mimetype": "application/julia",
   "name": "julia",
   "version": "1.10.0"
  }
 },
 "nbformat": 4,
 "nbformat_minor": 5
}
