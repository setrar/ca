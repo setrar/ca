{
 "cells": [
  {
   "cell_type": "markdown",
   "id": "ca3314ba-7921-481c-a7bc-fb5d8c8af138",
   "metadata": {},
   "source": [
    "$$\n",
    "\\begin{gather}\n",
    "\\\\\n",
    "[ a_{31}, a_{30}, \\dots , a_1, a_0]\n",
    "\\\\\n",
    "{\\color{Salmon}u} = \\sum_{i=0}^{32} a_i * 2^i \\quad \\left.\\in[ 0, \\dots, 2^{32}-1 ]\\right|2^{32}\n",
    "\\\\\n",
    "{\\color{YellowGreen}sm} = (-1)^{a_{31}} * \\sum_{i=0}^{30} a_i * 2^i \\quad \\left.\\in[ -2^{31}+1, \\dots, -0, +0, \\dots, 2^{31}-1 ]\\right|2^{32}-1\n",
    "\\\\\n",
    "{\\color{Orange}tc} = -a_{31} * 2^{31} + \\sum_{i=0}^{30} a_i * 2^i \\quad \\left.\\in[ -2^{31}, \\dots, 0, \\dots, 2^{31}-1 ]\\right|2^{32}\n",
    "\\end{gather}\n",
    "$$"
   ]
  },
  {
   "cell_type": "markdown",
   "id": "85d44727-545f-4f97-8334-2d4335e50b3d",
   "metadata": {},
   "source": [
    "```assembly\n",
    "# Risc-V Assembler program to print \"Hello World!\"\n",
    "# to stdout.\n",
    "#\n",
    "# a0-a2 - parameters to linux function services\n",
    "# a7 - linux function number\n",
    "#\n",
    "\n",
    ".global _start      # Provide program starting address to linker\n",
    "\n",
    "# Setup the parameters to print hello world\n",
    "# and then call Linux to do it.\n",
    "\n",
    "_start: addi  a0, x0, 1      # 1 = StdOut\n",
    "        la    a1, helloworld # load address of helloworld\n",
    "        addi  a2, x0, 13     # length of our string\n",
    "        addi  a7, x0, 64     # linux write system call\n",
    "        ecall                # Call linux to output the string\n",
    "\n",
    "# Setup the parameters to exit the program\n",
    "# and then call Linux to do it.\n",
    "\n",
    "        addi    a0, x0, 0   # Use 0 return code\n",
    "        addi    a7, x0, 93  # Service command code 93 terminates\n",
    "        ecall               # Call linux to terminate the program\n",
    "\n",
    ".data\n",
    "helloworld:      .ascii \"Hello World!\\n\"\n",
    "```"
   ]
  },
  {
   "cell_type": "code",
   "execution_count": null,
   "id": "5dc8dce5-6dee-43bc-a487-91136449367a",
   "metadata": {},
   "outputs": [],
   "source": []
  }
 ],
 "metadata": {
  "kernelspec": {
   "display_name": "Julia 1.9.3",
   "language": "julia",
   "name": "julia-1.9"
  },
  "language_info": {
   "file_extension": ".jl",
   "mimetype": "application/julia",
   "name": "julia",
   "version": "1.10.0"
  }
 },
 "nbformat": 4,
 "nbformat_minor": 5
}
